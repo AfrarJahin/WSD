{
  "nbformat": 4,
  "nbformat_minor": 0,
  "metadata": {
    "colab": {
      "name": "wsd_data_cleaning.ipynb",
      "provenance": [],
      "collapsed_sections": [],
      "toc_visible": true
    },
    "kernelspec": {
      "name": "python3",
      "display_name": "Python 3"
    }
  },
  "cells": [
    {
      "cell_type": "markdown",
      "metadata": {
        "id": "5k-X8aZajQbW"
      },
      "source": [
        "NOte: \n",
        "If anything goes wrong then just delete the my_data.db file from here ,then run them all again "
      ]
    },
    {
      "cell_type": "markdown",
      "metadata": {
        "id": "b4SbvcdHd9No"
      },
      "source": [
        "## Creating a sqlite database\n"
      ]
    },
    {
      "cell_type": "code",
      "metadata": {
        "id": "Nksq24IiXJv6"
      },
      "source": [
        "from pathlib import Path\n",
        "Path('my_data.db').touch()"
      ],
      "execution_count": null,
      "outputs": []
    },
    {
      "cell_type": "markdown",
      "metadata": {
        "id": "uqGx5_jSd6SM"
      },
      "source": [
        "## Creating sqlite table"
      ]
    },
    {
      "cell_type": "code",
      "metadata": {
        "id": "VcoAmQrceMLv"
      },
      "source": [
        "import sqlite3\n",
        "conn = sqlite3.connect('my_data.db')\n",
        "c = conn.cursor()"
      ],
      "execution_count": null,
      "outputs": []
    },
    {
      "cell_type": "markdown",
      "metadata": {
        "id": "_Tlp-5CbeWc8"
      },
      "source": [
        "## Execute a query that’ll create a result table "
      ]
    },
    {
      "cell_type": "code",
      "metadata": {
        "id": "Rx7IEU2Necy0",
        "colab": {
          "base_uri": "https://localhost:8080/"
        },
        "outputId": "78a8ef57-2594-4cac-a825-3c8aa3b2c301"
      },
      "source": [
        "c.execute('''CREATE TABLE data (ambiguous_word text, meaning text,Text text)''')"
      ],
      "execution_count": null,
      "outputs": [
        {
          "output_type": "execute_result",
          "data": {
            "text/plain": [
              "<sqlite3.Cursor at 0x7f39e9c60e30>"
            ]
          },
          "metadata": {
            "tags": []
          },
          "execution_count": 3
        }
      ]
    },
    {
      "cell_type": "code",
      "metadata": {
        "id": "_O-KdIgNexe5"
      },
      "source": [
        ""
      ],
      "execution_count": null,
      "outputs": []
    },
    {
      "cell_type": "markdown",
      "metadata": {
        "id": "9de7ImGie53d"
      },
      "source": [
        "## Load CSV file into sqlite table"
      ]
    },
    {
      "cell_type": "code",
      "metadata": {
        "id": "GbqsN1z-e6V-"
      },
      "source": [
        "import pandas as pd\n",
        "# load the data into a Pandas DataFrame\n",
        "data = pd.read_csv('/content/data.csv')\n",
        "# write the data to a sqlite table\n",
        "data.to_sql('data', conn, if_exists='append', index = False)"
      ],
      "execution_count": null,
      "outputs": []
    },
    {
      "cell_type": "code",
      "metadata": {
        "id": "-2-Rj8iIfMtD"
      },
      "source": [
        "# data.head()"
      ],
      "execution_count": null,
      "outputs": []
    },
    {
      "cell_type": "markdown",
      "metadata": {
        "id": "KXpu_ck-fVbH"
      },
      "source": [
        "## Fetch values from sqlite table"
      ]
    },
    {
      "cell_type": "code",
      "metadata": {
        "id": "dWldkfZgfVsF"
      },
      "source": [
        "# c.execute('''SELECT * FROM data''').fetchall() "
      ],
      "execution_count": null,
      "outputs": []
    },
    {
      "cell_type": "code",
      "metadata": {
        "id": "BoRK2yDqf9Ip"
      },
      "source": [
        "db = sqlite3.connect(\"my_data.db\",timeout = 20)\n",
        "qry = \"\"\"\n",
        " \n",
        "SELECT * FROM data\n",
        "\n",
        "\"\"\"\n",
        "df = pd.read_sql_query(qry, db)\n",
        "# df.head()"
      ],
      "execution_count": null,
      "outputs": []
    },
    {
      "cell_type": "markdown",
      "metadata": {
        "id": "WEdVuQRgryg7"
      },
      "source": [
        "## texts data + stopwords read\n"
      ]
    },
    {
      "cell_type": "code",
      "metadata": {
        "id": "ODoXA8yHr2Lb"
      },
      "source": [
        "texts = list(data['Text'])\n",
        "stopwords = pd.read_csv('/content/stopwords_bangla.csv')"
      ],
      "execution_count": null,
      "outputs": []
    },
    {
      "cell_type": "markdown",
      "metadata": {
        "id": "M6aWscN3vx8E"
      },
      "source": [
        "## Stemmer Install + check"
      ]
    },
    {
      "cell_type": "code",
      "metadata": {
        "id": "QmxZ7sxxucs8",
        "colab": {
          "base_uri": "https://localhost:8080/",
          "height": 559
        },
        "outputId": "0cd1b5ab-d14c-4e38-c7c8-54424c8cc104"
      },
      "source": [
        "!git clone https://github.com/banglakit/bengali-stemmer.git\n",
        "!python -m pip install --upgrade pip\n",
        "%cd bengali-stemmer\n",
        "!pip install flake8\n",
        "#check:\n",
        "from bengali_stemmer.rafikamal2014 import RafiStemmer\n",
        "stemmer = RafiStemmer()\n",
        "stemmer.stem_word('বাংলায়')"
      ],
      "execution_count": null,
      "outputs": [
        {
          "output_type": "stream",
          "text": [
            "Cloning into 'bengali-stemmer'...\n",
            "remote: Enumerating objects: 25, done.\u001b[K\n",
            "remote: Counting objects: 100% (25/25), done.\u001b[K\n",
            "remote: Compressing objects: 100% (17/17), done.\u001b[K\n",
            "remote: Total 94 (delta 5), reused 16 (delta 4), pack-reused 69\u001b[K\n",
            "Unpacking objects: 100% (94/94), done.\n",
            "Collecting pip\n",
            "\u001b[?25l  Downloading https://files.pythonhosted.org/packages/cb/28/91f26bd088ce8e22169032100d4260614fc3da435025ff389ef1d396a433/pip-20.2.4-py2.py3-none-any.whl (1.5MB)\n",
            "\u001b[K     |████████████████████████████████| 1.5MB 6.7MB/s \n",
            "\u001b[?25hInstalling collected packages: pip\n",
            "  Found existing installation: pip 19.3.1\n",
            "    Uninstalling pip-19.3.1:\n",
            "      Successfully uninstalled pip-19.3.1\n",
            "Successfully installed pip-20.2.4\n",
            "/content/bengali-stemmer\n",
            "Collecting flake8\n",
            "  Downloading flake8-3.8.4-py2.py3-none-any.whl (72 kB)\n",
            "\u001b[K     |████████████████████████████████| 72 kB 1.2 MB/s \n",
            "\u001b[?25hCollecting pycodestyle<2.7.0,>=2.6.0a1\n",
            "  Downloading pycodestyle-2.6.0-py2.py3-none-any.whl (41 kB)\n",
            "\u001b[K     |████████████████████████████████| 41 kB 329 kB/s \n",
            "\u001b[?25hCollecting mccabe<0.7.0,>=0.6.0\n",
            "  Downloading mccabe-0.6.1-py2.py3-none-any.whl (8.6 kB)\n",
            "Requirement already satisfied: importlib-metadata; python_version < \"3.8\" in /usr/local/lib/python3.6/dist-packages (from flake8) (2.0.0)\n",
            "Collecting pyflakes<2.3.0,>=2.2.0\n",
            "  Downloading pyflakes-2.2.0-py2.py3-none-any.whl (66 kB)\n",
            "\u001b[K     |████████████████████████████████| 66 kB 3.7 MB/s \n",
            "\u001b[?25hRequirement already satisfied: zipp>=0.5 in /usr/local/lib/python3.6/dist-packages (from importlib-metadata; python_version < \"3.8\"->flake8) (3.4.0)\n",
            "Installing collected packages: pycodestyle, mccabe, pyflakes, flake8\n",
            "Successfully installed flake8-3.8.4 mccabe-0.6.1 pycodestyle-2.6.0 pyflakes-2.2.0\n"
          ],
          "name": "stdout"
        },
        {
          "output_type": "execute_result",
          "data": {
            "application/vnd.google.colaboratory.intrinsic+json": {
              "type": "string"
            },
            "text/plain": [
              "'বাংলা'"
            ]
          },
          "metadata": {
            "tags": []
          },
          "execution_count": 9
        }
      ]
    },
    {
      "cell_type": "code",
      "metadata": {
        "id": "THz5diNXvS9c"
      },
      "source": [
        "set_stop = set(stopwords['Words'])"
      ],
      "execution_count": null,
      "outputs": []
    },
    {
      "cell_type": "markdown",
      "metadata": {
        "id": "hrzsAQhA2lM0"
      },
      "source": [
        "# punctuation clean function:"
      ]
    },
    {
      "cell_type": "code",
      "metadata": {
        "id": "cSNZSWu00krs"
      },
      "source": [
        "def clean_punct(sentence):\n",
        "    cleaned = re.sub(r'[?|!|\\'|\"|#|।|’|‘]', r'', sentence)\n",
        "    cleaned1 = re.sub(r'[.|,|(|)|\\|/]', r'', cleaned)\n",
        "    cleaned = re.sub(r'[০|১|২|৩|৪|৫|৬|৭|৮|৯]', r'', cleaned1)\n",
        "    cleaned1 = re.sub(r'[-|=]', r' ', cleaned)\n",
        "    return cleaned1"
      ],
      "execution_count": null,
      "outputs": []
    },
    {
      "cell_type": "markdown",
      "metadata": {
        "id": "Rg4ZBR560pp1"
      },
      "source": [
        "## Preprocess function\n"
      ]
    },
    {
      "cell_type": "code",
      "metadata": {
        "id": "SXumcCF10qCT"
      },
      "source": [
        "def pre_process(data):\n",
        "    i=0\n",
        "    str1=' '\n",
        "    final_string = []\n",
        "    final_words = []\n",
        "    all_negative_words = []\n",
        "    s=''\n",
        "\n",
        "    for sentence in data:\n",
        "        filtered_sentence = []\n",
        "\n",
        "        for w in sentence.split():\n",
        "            for cleaned_word in clean_punct(w).split():\n",
        "                if len(cleaned_word)>2:\n",
        "                    if((cleaned_word) not in set_stop):\n",
        "                        s = stemmer.stem_word(cleaned_word)\n",
        "                        if len(s)>2:\n",
        "                            final_words.append(s)\n",
        "                            filtered_sentence.append(s)\n",
        "                    else:\n",
        "                        continue\n",
        "                else:\n",
        "                    continue\n",
        "\n",
        "        str1 = \" \".join(filtered_sentence)\n",
        "        final_string.append(str1)\n",
        "    return final_string"
      ],
      "execution_count": null,
      "outputs": []
    },
    {
      "cell_type": "code",
      "metadata": {
        "id": "8H214qnz0si8"
      },
      "source": [
        "import re\n",
        "re.compile('<title>(.*)</title>')\n",
        "texts = pre_process(texts)"
      ],
      "execution_count": null,
      "outputs": []
    },
    {
      "cell_type": "markdown",
      "metadata": {
        "id": "ZAb26Cbw2N9N"
      },
      "source": [
        "# preprocessed data"
      ]
    },
    {
      "cell_type": "code",
      "metadata": {
        "id": "8htOiQR60xgX"
      },
      "source": [
        "# texts"
      ],
      "execution_count": null,
      "outputs": []
    },
    {
      "cell_type": "code",
      "metadata": {
        "id": "D-bjfS6L1Zzi",
        "colab": {
          "base_uri": "https://localhost:8080/",
          "height": 35
        },
        "outputId": "dc56a026-69e5-4745-bb79-4ea9857c137d"
      },
      "source": [
        "texts[10]"
      ],
      "execution_count": null,
      "outputs": [
        {
          "output_type": "execute_result",
          "data": {
            "application/vnd.google.colaboratory.intrinsic+json": {
              "type": "string"
            },
            "text/plain": [
              "'মাথা বিন বিন'"
            ]
          },
          "metadata": {
            "tags": []
          },
          "execution_count": 15
        }
      ]
    },
    {
      "cell_type": "markdown",
      "metadata": {
        "id": "eepUIqqXEdmk"
      },
      "source": [
        "#One Hot Encoding"
      ]
    },
    {
      "cell_type": "code",
      "metadata": {
        "id": "0GInp87uEhWe"
      },
      "source": [
        "dumies = pd.get_dummies(df['meaning'])"
      ],
      "execution_count": null,
      "outputs": []
    },
    {
      "cell_type": "code",
      "metadata": {
        "id": "dOPtTrD2EhmO"
      },
      "source": [
        "y = dumies"
      ],
      "execution_count": null,
      "outputs": []
    },
    {
      "cell_type": "code",
      "metadata": {
        "id": "AByCu_o-lIrh"
      },
      "source": [
        "macronum=sorted(set(df['meaning']))\n",
        "macro_to_id = dict((note, number) for number, note in enumerate(macronum))\n",
        "\n",
        "def fun(i):\n",
        "    return macro_to_id[i]\n",
        "\n",
        "label=df['meaning'].apply(fun)\n"
      ],
      "execution_count": null,
      "outputs": []
    },
    {
      "cell_type": "code",
      "metadata": {
        "id": "cmDLkS35l1iS"
      },
      "source": [
        "y =label"
      ],
      "execution_count": null,
      "outputs": []
    },
    {
      "cell_type": "code",
      "metadata": {
        "id": "YrX_wBHnczpu",
        "colab": {
          "base_uri": "https://localhost:8080/"
        },
        "outputId": "bedae666-7f53-4ff8-c707-bf1155b1e2e5"
      },
      "source": [
        "data['ambiguous_word'].unique()"
      ],
      "execution_count": null,
      "outputs": [
        {
          "output_type": "execute_result",
          "data": {
            "text/plain": [
              "array(['মাথা', 'মুখ', 'মালা', 'ফুল', 'কড়া', 'কড়া ', 'গরম', 'ছাড়া', 'গায়ে',\n",
              "       'গা', 'তোলা', 'উঠা', 'লাগা', 'ফল', 'বল', 'বল ', 'পাতা', 'জল',\n",
              "       'চোখ', 'হাত', 'মন', 'বুক', 'বাজ', 'তাল ', 'জাল', 'খুব', 'জানা',\n",
              "       'কুড়ি', 'পাড়া', 'পাত্র', 'চাল', 'কাটা '], dtype=object)"
            ]
          },
          "metadata": {
            "tags": []
          },
          "execution_count": 18
        }
      ]
    },
    {
      "cell_type": "markdown",
      "metadata": {
        "id": "vr39bHjKkipW"
      },
      "source": [
        "# For space remove in ambiguous_word"
      ]
    },
    {
      "cell_type": "code",
      "metadata": {
        "id": "qBal6YXTbWAV"
      },
      "source": [
        "ambi_word = list(data['ambiguous_word'])\n",
        "for word in ambi_word:\n",
        "  if word == 'কাটা ':\n",
        "    word = 'কাটা'\n",
        "  if word == 'কড়া ':\n",
        "    word = 'কড়া'\n",
        "  if word == 'বল ':\n",
        "    word = 'বল'\n",
        "  "
      ],
      "execution_count": null,
      "outputs": []
    },
    {
      "cell_type": "code",
      "metadata": {
        "id": "9ugUhIRXcVPr"
      },
      "source": [
        "def unique(list1): \n",
        "    unique_list = [] \n",
        "    for x in list1: \n",
        "        if x not in unique_list: \n",
        "            unique_list.append(x) \n",
        "    for x in unique_list: \n",
        "        print(x), "
      ],
      "execution_count": null,
      "outputs": []
    },
    {
      "cell_type": "markdown",
      "metadata": {
        "id": "ZEeOJB5LdB9E"
      },
      "source": [
        "## Printing All unique ambi_word"
      ]
    },
    {
      "cell_type": "code",
      "metadata": {
        "id": "Dpx6-FlQZ62x"
      },
      "source": [
        "# unique(ambi_word)"
      ],
      "execution_count": null,
      "outputs": []
    },
    {
      "cell_type": "code",
      "metadata": {
        "id": "JOSK4_DKTx65",
        "colab": {
          "base_uri": "https://localhost:8080/"
        },
        "outputId": "c72a7e31-e93a-42d0-979e-b6dc3829876e"
      },
      "source": [
        "data['ambiguous_word'].unique()"
      ],
      "execution_count": null,
      "outputs": [
        {
          "output_type": "execute_result",
          "data": {
            "text/plain": [
              "array(['মাথা', 'মুখ', 'মালা', 'ফুল', 'কড়া', 'কড়া ', 'গরম', 'ছাড়া', 'গায়ে',\n",
              "       'গা', 'তোলা', 'উঠা', 'লাগা', 'ফল', 'বল', 'বল ', 'পাতা', 'জল',\n",
              "       'চোখ', 'হাত', 'মন', 'বুক', 'বাজ', 'তাল ', 'জাল', 'খুব', 'জানা',\n",
              "       'কুড়ি', 'পাড়া', 'পাত্র', 'চাল', 'কাটা '], dtype=object)"
            ]
          },
          "metadata": {
            "tags": []
          },
          "execution_count": 22
        }
      ]
    },
    {
      "cell_type": "code",
      "metadata": {
        "id": "Qu20bcBEgWWL",
        "colab": {
          "base_uri": "https://localhost:8080/"
        },
        "outputId": "a02e5cff-850c-4eef-be5a-8f6ff108e555"
      },
      "source": [
        "!pip install BnVec"
      ],
      "execution_count": null,
      "outputs": [
        {
          "output_type": "stream",
          "text": [
            "Collecting BnVec\n",
            "  Downloading BnVec-0.6-py3-none-any.whl (167 kB)\n",
            "\u001b[K     |████████████████████████████████| 167 kB 6.7 MB/s \n",
            "\u001b[?25hCollecting glove-python\n",
            "  Downloading glove_python-0.1.0.tar.gz (263 kB)\n",
            "\u001b[K     |████████████████████████████████| 263 kB 17.8 MB/s \n",
            "\u001b[?25hRequirement already satisfied: gensim in /usr/local/lib/python3.6/dist-packages (from BnVec) (3.6.0)\n",
            "Requirement already satisfied: scipy in /usr/local/lib/python3.6/dist-packages (from BnVec) (1.4.1)\n",
            "Requirement already satisfied: numpy in /usr/local/lib/python3.6/dist-packages (from BnVec) (1.18.5)\n",
            "Requirement already satisfied: matplotlib in /usr/local/lib/python3.6/dist-packages (from BnVec) (3.2.2)\n",
            "Requirement already satisfied: scikit-learn in /usr/local/lib/python3.6/dist-packages (from BnVec) (0.22.2.post1)\n",
            "Requirement already satisfied: smart-open>=1.2.1 in /usr/local/lib/python3.6/dist-packages (from gensim->BnVec) (3.0.0)\n",
            "Requirement already satisfied: six>=1.5.0 in /usr/local/lib/python3.6/dist-packages (from gensim->BnVec) (1.15.0)\n",
            "Requirement already satisfied: cycler>=0.10 in /usr/local/lib/python3.6/dist-packages (from matplotlib->BnVec) (0.10.0)\n",
            "Requirement already satisfied: kiwisolver>=1.0.1 in /usr/local/lib/python3.6/dist-packages (from matplotlib->BnVec) (1.3.1)\n",
            "Requirement already satisfied: python-dateutil>=2.1 in /usr/local/lib/python3.6/dist-packages (from matplotlib->BnVec) (2.8.1)\n",
            "Requirement already satisfied: pyparsing!=2.0.4,!=2.1.2,!=2.1.6,>=2.0.1 in /usr/local/lib/python3.6/dist-packages (from matplotlib->BnVec) (2.4.7)\n",
            "Requirement already satisfied: joblib>=0.11 in /usr/local/lib/python3.6/dist-packages (from scikit-learn->BnVec) (0.17.0)\n",
            "Requirement already satisfied: requests in /usr/local/lib/python3.6/dist-packages (from smart-open>=1.2.1->gensim->BnVec) (2.23.0)\n",
            "Requirement already satisfied: certifi>=2017.4.17 in /usr/local/lib/python3.6/dist-packages (from requests->smart-open>=1.2.1->gensim->BnVec) (2020.6.20)\n",
            "Requirement already satisfied: chardet<4,>=3.0.2 in /usr/local/lib/python3.6/dist-packages (from requests->smart-open>=1.2.1->gensim->BnVec) (3.0.4)\n",
            "Requirement already satisfied: idna<3,>=2.5 in /usr/local/lib/python3.6/dist-packages (from requests->smart-open>=1.2.1->gensim->BnVec) (2.10)\n",
            "Requirement already satisfied: urllib3!=1.25.0,!=1.25.1,<1.26,>=1.21.1 in /usr/local/lib/python3.6/dist-packages (from requests->smart-open>=1.2.1->gensim->BnVec) (1.24.3)\n",
            "Building wheels for collected packages: glove-python\n",
            "  Building wheel for glove-python (setup.py) ... \u001b[?25l\u001b[?25hdone\n",
            "  Created wheel for glove-python: filename=glove_python-0.1.0-cp36-cp36m-linux_x86_64.whl size=700227 sha256=e805c77dd036f382d0d3e3ff85505623badd2154eb5ac1397c3dd98cc3436339\n",
            "  Stored in directory: /root/.cache/pip/wheels/c2/34/66/a3adc1e41bd5cfe3aa8f75e34b42ca207f8b6e8171b9a4fd61\n",
            "Successfully built glove-python\n",
            "Installing collected packages: glove-python, BnVec\n",
            "Successfully installed BnVec-0.6 glove-python-0.1.0\n"
          ],
          "name": "stdout"
        }
      ]
    },
    {
      "cell_type": "markdown",
      "metadata": {
        "id": "8ZIqqUclIui3"
      },
      "source": [
        "#Count Vectorization"
      ]
    },
    {
      "cell_type": "code",
      "metadata": {
        "id": "jJbFeiwogmGA",
        "colab": {
          "base_uri": "https://localhost:8080/"
        },
        "outputId": "b45e759a-b204-4fce-9ce5-041115beca99"
      },
      "source": [
        "\n",
        "from pandas import DataFrame\n",
        "from BnVec import CountVectorizer\n",
        "cv = CountVectorizer()\n",
        "x_ambi = cv.fit_transform(ambi_word) \n",
        "x_ambi\n",
        "# DataFrame(x.toarray(),columns= cv.get_feature_names())"
      ],
      "execution_count": null,
      "outputs": [
        {
          "output_type": "execute_result",
          "data": {
            "text/plain": [
              "array([[0, 0, 0, ..., 0, 0, 0],\n",
              "       [0, 0, 0, ..., 0, 0, 0],\n",
              "       [0, 0, 0, ..., 0, 0, 0],\n",
              "       ...,\n",
              "       [0, 1, 0, ..., 0, 0, 0],\n",
              "       [0, 1, 0, ..., 0, 0, 0],\n",
              "       [0, 1, 0, ..., 0, 0, 0]])"
            ]
          },
          "metadata": {
            "tags": []
          },
          "execution_count": 40
        }
      ]
    },
    {
      "cell_type": "code",
      "metadata": {
        "id": "3ZvUJPk4j6uP"
      },
      "source": [
        "#  cv.get_feature_names()"
      ],
      "execution_count": null,
      "outputs": []
    },
    {
      "cell_type": "code",
      "metadata": {
        "id": "IdSo1EFeNYgZ",
        "colab": {
          "base_uri": "https://localhost:8080/"
        },
        "outputId": "327a5a5a-b513-4cb9-a78c-18b9bae05640"
      },
      "source": [
        "text_word = list(data['Text'])\n",
        "x_text = cv.fit_transform(text_word)\n",
        "x_text"
      ],
      "execution_count": null,
      "outputs": [
        {
          "output_type": "execute_result",
          "data": {
            "text/plain": [
              "array([[0, 0, 0, ..., 0, 0, 0],\n",
              "       [0, 0, 0, ..., 0, 0, 0],\n",
              "       [0, 0, 0, ..., 0, 0, 0],\n",
              "       ...,\n",
              "       [0, 0, 0, ..., 0, 0, 0],\n",
              "       [0, 0, 0, ..., 0, 0, 0],\n",
              "       [0, 0, 0, ..., 0, 0, 0]])"
            ]
          },
          "metadata": {
            "tags": []
          },
          "execution_count": 42
        }
      ]
    },
    {
      "cell_type": "code",
      "metadata": {
        "id": "wLQloLcbRFW3",
        "colab": {
          "base_uri": "https://localhost:8080/"
        },
        "outputId": "767a6878-8ccd-4c3c-f09a-0f3932a26b0f"
      },
      "source": [
        "import numpy as np\n",
        "vec = []\n",
        "for i in range(0,len(x_text)):\n",
        "  # np.concatenate(x_text[i],x_ambi[i],axis = 1)\n",
        "  vec.append(list(x_text) + list(x_ambi[i]))\n"
      ],
      "execution_count": null,
      "outputs": [
        {
          "output_type": "execute_result",
          "data": {
            "text/plain": [
              "1382"
            ]
          },
          "metadata": {
            "tags": []
          },
          "execution_count": 70
        }
      ]
    },
    {
      "cell_type": "code",
      "metadata": {
        "id": "xykcOHlecYDB",
        "colab": {
          "base_uri": "https://localhost:8080/"
        },
        "outputId": "5fdf6790-6747-4223-997f-f6e95a0cbd4d"
      },
      "source": [
        "vec.shape"
      ],
      "execution_count": null,
      "outputs": [
        {
          "output_type": "execute_result",
          "data": {
            "text/plain": [
              "(1382, 1412)"
            ]
          },
          "metadata": {
            "tags": []
          },
          "execution_count": 76
        }
      ]
    },
    {
      "cell_type": "markdown",
      "metadata": {
        "id": "_IqHgC_2V6MB"
      },
      "source": [
        "## Merging Ambiguous_word And Text"
      ]
    },
    {
      "cell_type": "code",
      "metadata": {
        "id": "5DgM7W_JTfsz",
        "colab": {
          "base_uri": "https://localhost:8080/",
          "height": 402
        },
        "outputId": "83f2d5a1-c8f1-4767-eb7e-dcf34558cce8"
      },
      "source": [
        "merged = df.drop(['meaning'],axis= 1)\n",
        "\n",
        "final = list(merged)\n",
        "# final = cv.fit_transform(merged)\n",
        "\n",
        "merged"
      ],
      "execution_count": null,
      "outputs": [
        {
          "output_type": "execute_result",
          "data": {
            "text/html": [
              "<div>\n",
              "<style scoped>\n",
              "    .dataframe tbody tr th:only-of-type {\n",
              "        vertical-align: middle;\n",
              "    }\n",
              "\n",
              "    .dataframe tbody tr th {\n",
              "        vertical-align: top;\n",
              "    }\n",
              "\n",
              "    .dataframe thead th {\n",
              "        text-align: right;\n",
              "    }\n",
              "</style>\n",
              "<table border=\"1\" class=\"dataframe\">\n",
              "  <thead>\n",
              "    <tr style=\"text-align: right;\">\n",
              "      <th></th>\n",
              "      <th>ambiguous_word</th>\n",
              "      <th>Text</th>\n",
              "    </tr>\n",
              "  </thead>\n",
              "  <tbody>\n",
              "    <tr>\n",
              "      <th>0</th>\n",
              "      <td>মাথা</td>\n",
              "      <td>মাথা অঙ্গের একটি অংশ যাতে সাধারণত চোখ, কান, না...</td>\n",
              "    </tr>\n",
              "    <tr>\n",
              "      <th>1</th>\n",
              "      <td>মাথা</td>\n",
              "      <td>মাথা হলো মানবদেহে বিদ্যমান সবচেয়ে ভারি অংশ।</td>\n",
              "    </tr>\n",
              "    <tr>\n",
              "      <th>2</th>\n",
              "      <td>মাথা</td>\n",
              "      <td>মাথা উদ্দিপনায় সারা দেয়।</td>\n",
              "    </tr>\n",
              "    <tr>\n",
              "      <th>3</th>\n",
              "      <td>মাথা</td>\n",
              "      <td>মাথা শরীরের সবচেয়ে গুরুত্বপূর্ণ অংশ।</td>\n",
              "    </tr>\n",
              "    <tr>\n",
              "      <th>4</th>\n",
              "      <td>মাথা</td>\n",
              "      <td>রাম খুব জোরে বল করায় রাজুর মাথায় চোট লেগেছিল ।</td>\n",
              "    </tr>\n",
              "    <tr>\n",
              "      <th>...</th>\n",
              "      <td>...</td>\n",
              "      <td>...</td>\n",
              "    </tr>\n",
              "    <tr>\n",
              "      <th>1377</th>\n",
              "      <td>কাটা</td>\n",
              "      <td>আমার বইটা তো বাজারে ভালোই কেটেছে।</td>\n",
              "    </tr>\n",
              "    <tr>\n",
              "      <th>1378</th>\n",
              "      <td>কাটা</td>\n",
              "      <td>উপন্যাসের সেস লাইনাটা মনে বেশ দাগ কেটেছে।</td>\n",
              "    </tr>\n",
              "    <tr>\n",
              "      <th>1379</th>\n",
              "      <td>কাটা</td>\n",
              "      <td>সবাই বেরিয়ে এসো, বিপদ কেটে গেছে।</td>\n",
              "    </tr>\n",
              "    <tr>\n",
              "      <th>1380</th>\n",
              "      <td>কাটা</td>\n",
              "      <td>তৃণভোজী প্রাণীরা খাওয়ার পর জাবর কাটে</td>\n",
              "    </tr>\n",
              "    <tr>\n",
              "      <th>1381</th>\n",
              "      <td>কাটা</td>\n",
              "      <td>আমার জীবনের অন্ধকার ধীরে  ধীরে  কেটে যাচ্ছে।</td>\n",
              "    </tr>\n",
              "  </tbody>\n",
              "</table>\n",
              "<p>1382 rows × 2 columns</p>\n",
              "</div>"
            ],
            "text/plain": [
              "     ambiguous_word                                               Text\n",
              "0              মাথা  মাথা অঙ্গের একটি অংশ যাতে সাধারণত চোখ, কান, না...\n",
              "1              মাথা       মাথা হলো মানবদেহে বিদ্যমান সবচেয়ে ভারি অংশ।\n",
              "2              মাথা                         মাথা উদ্দিপনায় সারা দেয়।\n",
              "3              মাথা               মাথা শরীরের সবচেয়ে গুরুত্বপূর্ণ অংশ।\n",
              "4              মাথা     রাম খুব জোরে বল করায় রাজুর মাথায় চোট লেগেছিল ।\n",
              "...             ...                                                ...\n",
              "1377          কাটা                   আমার বইটা তো বাজারে ভালোই কেটেছে।\n",
              "1378          কাটা           উপন্যাসের সেস লাইনাটা মনে বেশ দাগ কেটেছে।\n",
              "1379          কাটা                   সবাই বেরিয়ে এসো, বিপদ কেটে গেছে। \n",
              "1380          কাটা               তৃণভোজী প্রাণীরা খাওয়ার পর জাবর কাটে \n",
              "1381          কাটা       আমার জীবনের অন্ধকার ধীরে  ধীরে  কেটে যাচ্ছে। \n",
              "\n",
              "[1382 rows x 2 columns]"
            ]
          },
          "metadata": {
            "tags": []
          },
          "execution_count": 55
        }
      ]
    },
    {
      "cell_type": "code",
      "metadata": {
        "id": "692xgOTSUZNq"
      },
      "source": [
        "# merged"
      ],
      "execution_count": null,
      "outputs": []
    },
    {
      "cell_type": "code",
      "metadata": {
        "id": "GrovV63_F3kq"
      },
      "source": [
        "y= dumies\n",
        "#y"
      ],
      "execution_count": null,
      "outputs": []
    }
  ]
}