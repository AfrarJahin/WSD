{
  "nbformat": 4,
  "nbformat_minor": 0,
  "metadata": {
    "accelerator": "GPU",
    "colab": {
      "name": "wsd_with_3ksent(Knn).ipynb",
      "provenance": [],
      "collapsed_sections": [],
      "toc_visible": true
    },
    "kernelspec": {
      "display_name": "Python 3",
      "name": "python3"
    }
  },
  "cells": [
    {
      "cell_type": "code",
      "metadata": {
        "id": "1U17KnLl80t4"
      },
      "source": [
        "# !pip install tensorflow-gpu"
      ],
      "execution_count": null,
      "outputs": []
    },
    {
      "cell_type": "code",
      "metadata": {
        "colab": {
          "base_uri": "https://localhost:8080/"
        },
        "id": "DVro_xbkWv3f",
        "outputId": "bc460da4-f71f-4c3d-9caa-16a34f1384b7"
      },
      "source": [
        "pip install bnlp_toolkit"
      ],
      "execution_count": null,
      "outputs": [
        {
          "output_type": "stream",
          "text": [
            "Collecting bnlp_toolkit\n",
            "  Downloading https://files.pythonhosted.org/packages/16/be/44d78b55ad8121cce1ca0bdbc7cf1db8d3f585006bacb08bd53ec8653957/bnlp_toolkit-3.0.0-py3-none-any.whl\n",
            "Collecting sklearn-crfsuite\n",
            "  Downloading https://files.pythonhosted.org/packages/25/74/5b7befa513482e6dee1f3dd68171a6c9dfc14c0eaa00f885ffeba54fe9b0/sklearn_crfsuite-0.3.6-py2.py3-none-any.whl\n",
            "Requirement already satisfied: numpy in /usr/local/lib/python3.6/dist-packages (from bnlp_toolkit) (1.19.4)\n",
            "Requirement already satisfied: gensim in /usr/local/lib/python3.6/dist-packages (from bnlp_toolkit) (3.6.0)\n",
            "Collecting sentencepiece\n",
            "\u001b[?25l  Downloading https://files.pythonhosted.org/packages/e5/2d/6d4ca4bef9a67070fa1cac508606328329152b1df10bdf31fb6e4e727894/sentencepiece-0.1.94-cp36-cp36m-manylinux2014_x86_64.whl (1.1MB)\n",
            "\u001b[K     |████████████████████████████████| 1.1MB 11.8MB/s \n",
            "\u001b[?25hRequirement already satisfied: scipy in /usr/local/lib/python3.6/dist-packages (from bnlp_toolkit) (1.4.1)\n",
            "Requirement already satisfied: nltk in /usr/local/lib/python3.6/dist-packages (from bnlp_toolkit) (3.2.5)\n",
            "Requirement already satisfied: six in /usr/local/lib/python3.6/dist-packages (from sklearn-crfsuite->bnlp_toolkit) (1.15.0)\n",
            "Requirement already satisfied: tqdm>=2.0 in /usr/local/lib/python3.6/dist-packages (from sklearn-crfsuite->bnlp_toolkit) (4.41.1)\n",
            "Collecting python-crfsuite>=0.8.3\n",
            "\u001b[?25l  Downloading https://files.pythonhosted.org/packages/95/99/869dde6dbf3e0d07a013c8eebfb0a3d30776334e0097f8432b631a9a3a19/python_crfsuite-0.9.7-cp36-cp36m-manylinux1_x86_64.whl (743kB)\n",
            "\u001b[K     |████████████████████████████████| 747kB 58.6MB/s \n",
            "\u001b[?25hRequirement already satisfied: tabulate in /usr/local/lib/python3.6/dist-packages (from sklearn-crfsuite->bnlp_toolkit) (0.8.7)\n",
            "Requirement already satisfied: smart-open>=1.2.1 in /usr/local/lib/python3.6/dist-packages (from gensim->bnlp_toolkit) (4.0.1)\n",
            "Installing collected packages: python-crfsuite, sklearn-crfsuite, sentencepiece, bnlp-toolkit\n",
            "Successfully installed bnlp-toolkit-3.0.0 python-crfsuite-0.9.7 sentencepiece-0.1.94 sklearn-crfsuite-0.3.6\n"
          ],
          "name": "stdout"
        }
      ]
    },
    {
      "cell_type": "code",
      "metadata": {
        "id": "x4Jw2cxF9hBr"
      },
      "source": [
        "# !nvidia-smi"
      ],
      "execution_count": null,
      "outputs": []
    },
    {
      "cell_type": "code",
      "metadata": {
        "id": "1UZ0abf2VCF5"
      },
      "source": [
        "!pip install BnVec\n",
        "!git clone https://github.com/banglakit/bengali-stemmer.git\n",
        "!python -m pip install --upgrade pip\n",
        "%cd bengali-stemmer\n",
        "!pip install flake8"
      ],
      "execution_count": null,
      "outputs": []
    },
    {
      "cell_type": "markdown",
      "metadata": {
        "id": "DxXjNJEur3jg"
      },
      "source": [
        "#Load Files"
      ]
    },
    {
      "cell_type": "code",
      "metadata": {
        "id": "X3IQEIozL38t"
      },
      "source": [
        "import numpy as np\n",
        "import pandas as pd\n",
        "import matplotlib.pyplot as plt\n",
        "import re\n",
        "from pandas import DataFrame\n",
        "from BnVec import CountVectorizer\n",
        "from sklearn.naive_bayes import GaussianNB\n",
        "from sklearn.model_selection import train_test_split\n"
      ],
      "execution_count": null,
      "outputs": []
    },
    {
      "cell_type": "code",
      "metadata": {
        "id": "3zzFmj9L0O7q"
      },
      "source": [
        "from bengali_stemmer.rafikamal2014 import RafiStemmer\n",
        "stemmer = RafiStemmer()"
      ],
      "execution_count": null,
      "outputs": []
    },
    {
      "cell_type": "code",
      "metadata": {
        "id": "X9fO7sSqVCLv"
      },
      "source": [
        "data = pd.read_csv('/content/data.csv')\n",
        "stopwords = pd.read_csv('/content/stopwords_bangla.csv')"
      ],
      "execution_count": null,
      "outputs": []
    },
    {
      "cell_type": "code",
      "metadata": {
        "id": "d5A2rtYgfBeo"
      },
      "source": [
        "# data"
      ],
      "execution_count": null,
      "outputs": []
    },
    {
      "cell_type": "code",
      "metadata": {
        "id": "rQpY5AirEBUr"
      },
      "source": [
        "# from google.colab import drive\n",
        "# drive.mount('/content/drive')"
      ],
      "execution_count": null,
      "outputs": []
    },
    {
      "cell_type": "code",
      "metadata": {
        "id": "hxeDa3OoVCAZ"
      },
      "source": [
        "text = data['Text']\n",
        "set_stop = set(stopwords['Words'])"
      ],
      "execution_count": null,
      "outputs": []
    },
    {
      "cell_type": "code",
      "metadata": {
        "id": "Ajohes5UVB9U"
      },
      "source": [
        "def clean_punct(sentence):\n",
        "    cleaned = re.sub(r'[?|!|\\'|\"|#|।|’|‘]', r'', sentence)\n",
        "    cleaned1 = re.sub(r'[.|,|(|)|\\|/]', r'', cleaned)\n",
        "    # cleaned = re.sub(r'[০|১|২|৩|৪|৫|৬|৭|৮|৯]', r'', cleaned1)\n",
        "    cleaned1 = re.sub(r'[-|=]', r' ', cleaned1)\n",
        "    return cleaned1"
      ],
      "execution_count": null,
      "outputs": []
    },
    {
      "cell_type": "code",
      "metadata": {
        "id": "qOmOeXsPWMgB"
      },
      "source": [
        "def pre_process(data):\n",
        "    i=0\n",
        "    str1=' '\n",
        "    final_string = []\n",
        "    final_words = []\n",
        "    all_negative_words = []\n",
        "    s=''\n",
        "\n",
        "    for sentence in data:\n",
        "        filtered_sentence = []\n",
        "        for w in str(sentence).split():\n",
        "            for cleaned_word in clean_punct(w).split():\n",
        "                if len(cleaned_word)>2:\n",
        "                   # print(cleaned_word)\n",
        "                    if((cleaned_word) not in set_stop):\n",
        "                        # s = stemmer.stem_word(cleaned_word)\n",
        "                        s = cleaned_word\n",
        "                        #print(s)\n",
        "                        if len(s)>2:\n",
        "                            final_words.append(s)\n",
        "                            filtered_sentence.append(s)\n",
        "                    else:\n",
        "                        continue\n",
        "                else:\n",
        "                    continue\n",
        "\n",
        "        str1 = \" \".join(filtered_sentence)\n",
        "        final_string.append(str1)\n",
        "    return final_string\n",
        "\n"
      ],
      "execution_count": null,
      "outputs": []
    },
    {
      "cell_type": "code",
      "metadata": {
        "colab": {
          "base_uri": "https://localhost:8080/"
        },
        "id": "wWKjioSaVB1j",
        "outputId": "6be7c0e2-e800-463a-8281-e0848097e05c"
      },
      "source": [
        "import re\n",
        "re.compile('<title>(.*)</title>')\n",
        "#text"
      ],
      "execution_count": null,
      "outputs": [
        {
          "output_type": "execute_result",
          "data": {
            "text/plain": [
              "re.compile(r'<title>(.*)</title>', re.UNICODE)"
            ]
          },
          "metadata": {
            "tags": []
          },
          "execution_count": 13
        }
      ]
    },
    {
      "cell_type": "markdown",
      "metadata": {
        "id": "SyD_gSVdXI52"
      },
      "source": [
        "# **Space Removing**"
      ]
    },
    {
      "cell_type": "code",
      "metadata": {
        "id": "s2OpJU_QXM94"
      },
      "source": [
        "ambi_word = list(data['ambiguous_word'])\n",
        "for word in ambi_word:\n",
        "  if word == 'কাটা ':\n",
        "    word = 'কাটা'\n",
        "  if word == 'কড়া ':\n",
        "    word = 'কড়া'\n",
        "  if word == 'বল ':\n",
        "    word = 'বল'\n",
        "  "
      ],
      "execution_count": null,
      "outputs": []
    },
    {
      "cell_type": "code",
      "metadata": {
        "id": "pfFe73IAXW-w"
      },
      "source": [
        "def unique(list1): \n",
        "    unique_list = [] \n",
        "    for x in list1: \n",
        "        if x not in unique_list: \n",
        "            unique_list.append(x) \n",
        "    for x in unique_list: \n",
        "        print(x),"
      ],
      "execution_count": null,
      "outputs": []
    },
    {
      "cell_type": "code",
      "metadata": {
        "id": "CT4OSK1ZXg_v"
      },
      "source": [
        "#  unique(ambi_word)"
      ],
      "execution_count": null,
      "outputs": []
    },
    {
      "cell_type": "code",
      "metadata": {
        "id": "LPZYvLT3XkpR"
      },
      "source": [
        "# data['ambiguous_word'].unique()\n",
        "text = pre_process(text)"
      ],
      "execution_count": null,
      "outputs": []
    },
    {
      "cell_type": "code",
      "metadata": {
        "id": "P_1JAFXYhrkj",
        "colab": {
          "base_uri": "https://localhost:8080/"
        },
        "outputId": "ebf485fe-c277-465c-a764-417ab7630288"
      },
      "source": [
        "from bnlp import BasicTokenizer\n",
        "\n",
        "# def listToString(s):  \n",
        "#     str1 = \" \" \n",
        "#     return (str1.join(s))       \n",
        "     \n",
        "\n",
        "basic_t = BasicTokenizer()\n",
        "raw_text = []\n",
        "for i in range(len(text)):\n",
        "  tokens = basic_t.tokenize(text[i])\n",
        "  raw_text.append(tokens)\n",
        "\n"
      ],
      "execution_count": null,
      "outputs": [
        {
          "output_type": "stream",
          "text": [
            "punkt not found. downloading...\n",
            "[nltk_data] Downloading package punkt to /root/nltk_data...\n",
            "[nltk_data]   Unzipping tokenizers/punkt.zip.\n"
          ],
          "name": "stdout"
        }
      ]
    },
    {
      "cell_type": "code",
      "metadata": {
        "id": "Ecc3_SUfPnsG"
      },
      "source": [
        "text = pre_process(raw_text)\n",
        "# text"
      ],
      "execution_count": null,
      "outputs": []
    },
    {
      "cell_type": "code",
      "metadata": {
        "id": "B-3jOkNEiNt1"
      },
      "source": [
        "data['text']= text\n",
        "data= data.drop(['Text'], axis=1)\n",
        "\n",
        "# data\n"
      ],
      "execution_count": null,
      "outputs": []
    },
    {
      "cell_type": "markdown",
      "metadata": {
        "id": "o0CVfbHKXtUh"
      },
      "source": [
        "**Count Vectorize**"
      ]
    },
    {
      "cell_type": "code",
      "metadata": {
        "id": "PT1HGKERXv8A"
      },
      "source": [
        "from pandas import DataFrame\n",
        "from BnVec import CountVectorizer\n",
        "cv = CountVectorizer()\n",
        "x_ambi = cv.fit_transform(ambi_word) # x is the word features\n",
        "# x_ambi"
      ],
      "execution_count": null,
      "outputs": []
    },
    {
      "cell_type": "code",
      "metadata": {
        "id": "54x-bP4bXz-l"
      },
      "source": [
        "text_word = list(data['text'])\n",
        "x_text = cv.fit_transform(data['text'].values.astype('U'))\n",
        "# x_text = cv.fit_transform(text_word)\n",
        "# x_text"
      ],
      "execution_count": null,
      "outputs": []
    },
    {
      "cell_type": "code",
      "metadata": {
        "id": "25L2trm9z_wr"
      },
      "source": [
        "x = np.concatenate((x_text, x_ambi), 1)"
      ],
      "execution_count": null,
      "outputs": []
    },
    {
      "cell_type": "code",
      "metadata": {
        "id": "rjwYUmYt0Emk"
      },
      "source": [
        "# x"
      ],
      "execution_count": null,
      "outputs": []
    },
    {
      "cell_type": "markdown",
      "metadata": {
        "id": "9yQ7bxoxYNr_"
      },
      "source": [
        "**Vectorization**"
      ]
    },
    {
      "cell_type": "code",
      "metadata": {
        "id": "kMY_fyp8YeOj"
      },
      "source": [
        "macronum=sorted(set(data['meaning']))\n",
        "macro_to_id = dict((note, number) for number, note in enumerate(macronum))\n",
        "\n",
        "def fun(i):\n",
        "    return macro_to_id[i]\n",
        "\n",
        "label=data['meaning'].apply(fun)"
      ],
      "execution_count": null,
      "outputs": []
    },
    {
      "cell_type": "code",
      "metadata": {
        "id": "AogLftMMYn13"
      },
      "source": [
        "y= label\n",
        "# y"
      ],
      "execution_count": null,
      "outputs": []
    },
    {
      "cell_type": "markdown",
      "metadata": {
        "id": "3oPI9ChLh6DD"
      },
      "source": [
        "# **Import libraries**"
      ]
    },
    {
      "cell_type": "code",
      "metadata": {
        "id": "jdTOzcY91oOT"
      },
      "source": [
        "import numpy as np\n",
        "import pandas as pd\n",
        "import matplotlib.pyplot as plt\n",
        "import sklearn\n",
        "from sklearn.model_selection import train_test_split\n",
        "from sklearn.model_selection import cross_val_score\n",
        "from sklearn.neighbors import KNeighborsClassifier\n",
        "from sklearn.metrics import accuracy_score\n",
        "from sklearn.model_selection import cross_validate \n",
        "from collections import Counter\n",
        "from sklearn.metrics import accuracy_score"
      ],
      "execution_count": null,
      "outputs": []
    },
    {
      "cell_type": "code",
      "metadata": {
        "id": "OyYanAuXWNkZ"
      },
      "source": [
        "# split the data set into train and test\n",
        "X_1, X_test, y_1, y_test = train_test_split(x, y, test_size=0.1, random_state=0)\n",
        "\n",
        "# split the train data set into cross validation train and cross validation test\n",
        "X_tr, X_cv, y_tr, y_cv = train_test_split(X_1, y_1, test_size=0.2)\n",
        "# X_train, X_test, y_train, y_test = train_test_split(x, y, test_size=0.3, random_state=0)"
      ],
      "execution_count": null,
      "outputs": []
    },
    {
      "cell_type": "code",
      "metadata": {
        "id": "0EfFxkb8WTRM"
      },
      "source": [
        "# X_train, X_test, y_train, y_test = train_test_split(x, y, test_size=0.3, random_state=0)"
      ],
      "execution_count": null,
      "outputs": []
    },
    {
      "cell_type": "code",
      "metadata": {
        "id": "uxTrimrrPF7N"
      },
      "source": [
        "# # fitting the model on crossvalidation train\n",
        "# knn.fit(X_tr, y_tr)\n",
        "\n",
        "# # predict the response on the crossvalidation train\n",
        "# pred = knn.predict(X_cv)\n",
        "\n",
        "# # evaluate CV accuracy\n",
        "# acc = accuracy_score(y_cv, pred, normalize=True) * float(100)"
      ],
      "execution_count": null,
      "outputs": []
    },
    {
      "cell_type": "code",
      "metadata": {
        "colab": {
          "base_uri": "https://localhost:8080/"
        },
        "id": "oVeCwK6TV8Lb",
        "outputId": "335eac12-1f6c-4dad-c0f9-a0d5e7a666c4"
      },
      "source": [
        "X_tr.shape , y_tr.shape , X_cv.shape , y_cv.shape, X_test.shape , y_test.shape"
      ],
      "execution_count": null,
      "outputs": [
        {
          "output_type": "execute_result",
          "data": {
            "text/plain": [
              "((2232, 6760), (2232,), (558, 6760), (558,), (310, 6760), (310,))"
            ]
          },
          "metadata": {
            "tags": []
          },
          "execution_count": 31
        }
      ]
    },
    {
      "cell_type": "markdown",
      "metadata": {
        "id": "iI6mPZKEBaTI"
      },
      "source": [
        "# **SVM**"
      ]
    },
    {
      "cell_type": "code",
      "metadata": {
        "id": "etb5VKVsB6bE",
        "colab": {
          "base_uri": "https://localhost:8080/"
        },
        "outputId": "fbf2262f-f809-46f4-9b64-e7ec708cc8c6"
      },
      "source": [
        "from sklearn import svm\n",
        "clf = svm.SVC(kernel='linear', C=1, random_state=42)\n",
        "clf.fit(X_tr, y_tr)\n",
        "svm_pred = clf.predict(X_cv)\n",
        "svm_acc = accuracy_score(y_cv, svm_pred, normalize=True) * float(100)\n",
        "\n",
        "print('SVM Accuracy %d%%' % (svm_acc)) "
      ],
      "execution_count": null,
      "outputs": [
        {
          "output_type": "stream",
          "text": [
            "SVM Accuracy 68%\n"
          ],
          "name": "stdout"
        }
      ]
    },
    {
      "cell_type": "markdown",
      "metadata": {
        "id": "SnQsb078a9rv"
      },
      "source": [
        "### Cross-validation:"
      ]
    },
    {
      "cell_type": "code",
      "metadata": {
        "id": "z2AGBN0gail2",
        "colab": {
          "base_uri": "https://localhost:8080/"
        },
        "outputId": "397a18af-1369-455e-c231-18e8e3f113c1"
      },
      "source": [
        " from sklearn import svm\n",
        " from sklearn.model_selection import cross_val_score\n",
        "clf = svm.SVC(kernel='linear', C=1, random_state=0)\n",
        " scores = cross_val_score(clf, X_tr, y_tr, cv=10)\n",
        " scores"
      ],
      "execution_count": null,
      "outputs": [
        {
          "output_type": "stream",
          "text": [
            "/usr/local/lib/python3.6/dist-packages/sklearn/model_selection/_split.py:667: UserWarning: The least populated class in y has only 1 members, which is less than n_splits=10.\n",
            "  % (min_groups, self.n_splits)), UserWarning)\n"
          ],
          "name": "stderr"
        },
        {
          "output_type": "execute_result",
          "data": {
            "text/plain": [
              "array([0.70089286, 0.73214286, 0.71748879, 0.69506726, 0.66367713,\n",
              "       0.69506726, 0.67264574, 0.7264574 , 0.71748879, 0.69506726])"
            ]
          },
          "metadata": {
            "tags": []
          },
          "execution_count": 33
        }
      ]
    },
    {
      "cell_type": "markdown",
      "metadata": {
        "id": "8Nfhxma3cEHP"
      },
      "source": [
        "Mean & standard daviation\n"
      ]
    },
    {
      "cell_type": "code",
      "metadata": {
        "id": "BGm7uAE7cGx9",
        "colab": {
          "base_uri": "https://localhost:8080/"
        },
        "outputId": "051c3790-175d-474b-e829-86f05e6bf37e"
      },
      "source": [
        "print(\"%0.2f accuracy with a standard deviation of %0.2f\" % (scores.mean(), scores.std()))"
      ],
      "execution_count": null,
      "outputs": [
        {
          "output_type": "stream",
          "text": [
            "0.70 accuracy with a standard deviation of 0.02\n"
          ],
          "name": "stdout"
        }
      ]
    },
    {
      "cell_type": "code",
      "metadata": {
        "id": "-xOkPji4cfjj"
      },
      "source": [
        "# from sklearn import metrics\n",
        "# scores = cross_val_score(clf, x, y, cv=5, scoring='f1_macro')\n",
        "# scores"
      ],
      "execution_count": null,
      "outputs": []
    },
    {
      "cell_type": "code",
      "metadata": {
        "id": "ZioMhUeC61SK"
      },
      "source": [
        "# # import GridSearchCV\n",
        "# from sklearn.model_selection import GridSearchCV\n",
        "\n",
        "\n",
        "# # import SVC classifier\n",
        "# from sklearn.svm import SVC\n",
        "\n",
        "\n",
        "# # instantiate classifier with default hyperparameters with kernel=rbf, C=1.0 and gamma=auto\n",
        "# svc=SVC() \n",
        "\n",
        "\n",
        "\n",
        "# # declare parameters for hyperparameter tuning\n",
        "# parameters = [ {'C':[1, 10, 100, 1000], 'kernel':['linear']},\n",
        "#                {'C':[1, 10, 100, 1000], 'kernel':['rbf'], 'gamma':[0.1, 0.2, 0.3, 0.4, 0.5, 0.6, 0.7, 0.8, 0.9]},\n",
        "#                {'C':[1, 10, 100, 1000], 'kernel':['poly'], 'degree': [2,3,4] ,'gamma':[0.01,0.02,0.03,0.04,0.05]} \n",
        "#               ]\n",
        "\n",
        "\n",
        "\n",
        "\n",
        "# grid_search = GridSearchCV(estimator = svc,  \n",
        "#                            param_grid = parameters,\n",
        "#                            scoring = 'accuracy',\n",
        "#                            cv = 5,\n",
        "#                            verbose=0)\n",
        "\n",
        "\n",
        "# grid_search.fit(X_train, y_train)"
      ],
      "execution_count": null,
      "outputs": []
    },
    {
      "cell_type": "code",
      "metadata": {
        "id": "iotNfiEPCsL5"
      },
      "source": [
        "# examine the best model\n",
        "\n",
        "\n",
        "# # best score achieved during the GridSearchCV\n",
        "# print('GridSearch CV best score : {:.4f}\\n\\n'.format(grid_search.best_score_))\n",
        "\n",
        "\n",
        "# # print parameters that give the best results\n",
        "# print('Parameters that give the best results :','\\n\\n', (grid_search.best_params_))\n",
        "\n",
        "\n",
        "# # print estimator that was chosen by the GridSearch\n",
        "# print('\\n\\nEstimator that was chosen by the search :','\\n\\n', (grid_search.best_estimator_))"
      ],
      "execution_count": null,
      "outputs": []
    },
    {
      "cell_type": "markdown",
      "metadata": {
        "id": "z9ltZMfmJj3v"
      },
      "source": [
        "# **Naive Bayes**"
      ]
    },
    {
      "cell_type": "code",
      "metadata": {
        "id": "CejuIR60QNhk",
        "colab": {
          "base_uri": "https://localhost:8080/"
        },
        "outputId": "0febc83b-589c-472c-93e3-fa9a45305c87"
      },
      "source": [
        "# fitting the model on crossvalidation train\n",
        "gnb = GaussianNB()\n",
        "gnb.fit(X_tr, y_tr)\n",
        "\n",
        "# predict the response on the crossvalidation train\n",
        "pred = gnb.predict(X_cv)\n",
        "\n",
        "# evaluate CV accuracy\n",
        "acc = accuracy_score(y_cv, pred, normalize=True) * float(100)\n",
        "\n",
        "print('NAive bayes Accuracy %d%%' % (acc)) "
      ],
      "execution_count": null,
      "outputs": [
        {
          "output_type": "stream",
          "text": [
            "NAive bayes Accuracy 58%\n"
          ],
          "name": "stdout"
        }
      ]
    },
    {
      "cell_type": "code",
      "metadata": {
        "id": "5bgSIYzGG6Ct",
        "colab": {
          "base_uri": "https://localhost:8080/"
        },
        "outputId": "ecd90bec-dadb-4015-ef08-0aa73808cc80"
      },
      "source": [
        "from sklearn.naive_bayes import GaussianNB\n",
        "\n",
        "gnb = GaussianNB()\n",
        "scores = cross_val_score(gnb, X_tr, y_tr, cv=10)\n",
        "print('Naive Bayes Accuracy is %d%%' % (acc))\n",
        "print(\"%0.2f accuracy with a standard deviation of %0.2f\" % (scores.mean(), scores.std()))\n",
        "# scores"
      ],
      "execution_count": null,
      "outputs": [
        {
          "output_type": "stream",
          "text": [
            "/usr/local/lib/python3.6/dist-packages/sklearn/model_selection/_split.py:667: UserWarning: The least populated class in y has only 1 members, which is less than n_splits=10.\n",
            "  % (min_groups, self.n_splits)), UserWarning)\n"
          ],
          "name": "stderr"
        },
        {
          "output_type": "stream",
          "text": [
            "Naive Bayes Accuracy is 58%\n",
            "0.64 accuracy with a standard deviation of 0.02\n"
          ],
          "name": "stdout"
        }
      ]
    },
    {
      "cell_type": "code",
      "metadata": {
        "id": "TYSTD723Mf_e",
        "colab": {
          "base_uri": "https://localhost:8080/"
        },
        "outputId": "a244fb35-13ec-49c0-d679-751a817de66e"
      },
      "source": [
        "from sklearn.naive_bayes import GaussianNB\n",
        "\n",
        "\n",
        "# instantiate the model\n",
        "gnb = GaussianNB()\n",
        "\n",
        "\n",
        "# fit the model\n",
        "gnb.fit(X_tr, y_tr)\n",
        "y_pred = gnb.predict(X_cv)\n",
        "from sklearn.metrics import accuracy_score\n",
        "\n",
        "print('Model accuracy score: {0:0.4f}'. format(accuracy_score(y_cv, y_pred)))"
      ],
      "execution_count": null,
      "outputs": [
        {
          "output_type": "stream",
          "text": [
            "Model accuracy score: 0.5896\n"
          ],
          "name": "stdout"
        }
      ]
    },
    {
      "cell_type": "markdown",
      "metadata": {
        "id": "qhQme7fJMx1I"
      },
      "source": [
        "Compare the train-set and test-set accuracy"
      ]
    },
    {
      "cell_type": "code",
      "metadata": {
        "id": "w38qdazg_FE9",
        "colab": {
          "base_uri": "https://localhost:8080/"
        },
        "outputId": "005ad6cb-def5-4982-9036-a3968adef1d6"
      },
      "source": [
        "# print the scores on training and test set\n",
        "\n",
        "print('Training set score: {:.4f}'.format(gnb.score(X_tr, y_tr)))\n",
        "\n",
        "print('Test set score: {:.4f}'.format(gnb.score(X_test, y_test)))\n",
        "\n",
        "print('Validation set score: {:.4f}'.format(gnb.score(X_cv, y_cv)))"
      ],
      "execution_count": null,
      "outputs": [
        {
          "output_type": "stream",
          "text": [
            "Training set score: 0.9879\n",
            "Test set score: 0.5839\n",
            "Validation set score: 0.5896\n"
          ],
          "name": "stdout"
        }
      ]
    },
    {
      "cell_type": "code",
      "metadata": {
        "id": "jH5XYFPET7uJ"
      },
      "source": [
        "\n",
        "# X_train.shape, X_test.shape"
      ],
      "execution_count": null,
      "outputs": []
    },
    {
      "cell_type": "markdown",
      "metadata": {
        "id": "wCAkIBcZ_cWG"
      },
      "source": [
        "# **KNN**"
      ]
    },
    {
      "cell_type": "code",
      "metadata": {
        "id": "u28pN5QNYpc5",
        "colab": {
          "base_uri": "https://localhost:8080/"
        },
        "outputId": "ca8a52ee-574d-40a4-d5ff-2258614f7d8f"
      },
      "source": [
        "# import KNeighbors ClaSSifier from sklearn\n",
        "from sklearn.neighbors import KNeighborsClassifier\n",
        "\n",
        "# instantiate the model\n",
        "knn = KNeighborsClassifier(n_neighbors=3)\n",
        "\n",
        "\n",
        "# instantiate the model\n",
        "knn = KNeighborsClassifier(n_neighbors=3)\n",
        "\n",
        "\n",
        "# fit the model to the training set\n",
        "knn.fit(X_tr, y_tr)\n",
        "# acc = accuracy_score(y_cv, pred, normalize=True) * float(100)"
      ],
      "execution_count": null,
      "outputs": [
        {
          "output_type": "execute_result",
          "data": {
            "text/plain": [
              "KNeighborsClassifier(algorithm='auto', leaf_size=30, metric='minkowski',\n",
              "                     metric_params=None, n_jobs=None, n_neighbors=3, p=2,\n",
              "                     weights='uniform')"
            ]
          },
          "metadata": {
            "tags": []
          },
          "execution_count": 43
        }
      ]
    },
    {
      "cell_type": "code",
      "metadata": {
        "id": "apAN6xSqZl6S"
      },
      "source": [
        "y_pred = knn.predict(X_test)"
      ],
      "execution_count": null,
      "outputs": []
    },
    {
      "cell_type": "code",
      "metadata": {
        "id": "HCAagZPdZnbx",
        "colab": {
          "base_uri": "https://localhost:8080/"
        },
        "outputId": "c061e879-db8c-48b3-fe13-67a7cecaba35"
      },
      "source": [
        "from sklearn.metrics import accuracy_score\n",
        "\n",
        "print('Model accuracy score: {0:0.4f}'. format(accuracy_score(y_test, y_pred)))\n",
        "y_pred_train = knn.predict(X_tr)\n",
        "print('Training-set accuracy score: {0:0.4f}'. format(accuracy_score(y_tr, y_pred_train)))"
      ],
      "execution_count": null,
      "outputs": [
        {
          "output_type": "stream",
          "text": [
            "Model accuracy score: 0.3871\n",
            "Training-set accuracy score: 0.6868\n"
          ],
          "name": "stdout"
        }
      ]
    },
    {
      "cell_type": "code",
      "metadata": {
        "id": "FiLrTYxuZoXj",
        "colab": {
          "base_uri": "https://localhost:8080/"
        },
        "outputId": "5972ed07-bc1d-418c-a5f8-00266228ae78"
      },
      "source": [
        "print('Test set score: {:.4f}'.format(knn.score(X_test, y_test)))"
      ],
      "execution_count": null,
      "outputs": [
        {
          "output_type": "stream",
          "text": [
            "Test set score: 0.3871\n"
          ],
          "name": "stdout"
        }
      ]
    },
    {
      "cell_type": "code",
      "metadata": {
        "id": "zSEpMSCkad1g",
        "colab": {
          "base_uri": "https://localhost:8080/"
        },
        "outputId": "93f5ec1d-1d27-444d-f61e-73ea834f5a87"
      },
      "source": [
        "print('Validationn set score: {:.4f}'.format(knn.score(X_cv, y_cv)))"
      ],
      "execution_count": null,
      "outputs": [
        {
          "output_type": "stream",
          "text": [
            "Validationn set score: 0.3817\n"
          ],
          "name": "stdout"
        }
      ]
    },
    {
      "cell_type": "code",
      "metadata": {
        "id": "64rW3LcUZom_",
        "colab": {
          "base_uri": "https://localhost:8080/",
          "height": 295
        },
        "outputId": "2ea2db42-2bad-444b-eaf7-c19534a1a11c"
      },
      "source": [
        "# experimenting with different n values\n",
        "from sklearn import metrics\n",
        "k_range = list(range(1,26))\n",
        "scores = []\n",
        "for k in k_range:\n",
        "    knn = KNeighborsClassifier(n_neighbors=k)\n",
        "    knn.fit(X_tr, y_tr)\n",
        "    y_pred = knn.predict(X_test)\n",
        "    scores.append(metrics.accuracy_score(y_test, y_pred))\n",
        "\n",
        "plt.plot(k_range, scores)\n",
        "plt.xlabel('Value of k for KNN')\n",
        "plt.ylabel('Accuracy Score')\n",
        "plt.title('Accuracy Scores for Values of k of k-Nearest-Neighbors')\n",
        "plt.show()"
      ],
      "execution_count": null,
      "outputs": [
        {
          "output_type": "display_data",
          "data": {
            "image/png": "[encoded data removed]",
            "text/plain": [
              "<Figure size 432x288 with 1 Axes>"
            ]
          },
          "metadata": {
            "tags": [],
            "needs_background": "light"
          }
        }
      ]
    },
    {
      "cell_type": "code",
      "metadata": {
        "id": "fSjcK1J3ZoDe"
      },
      "source": [
        ""
      ],
      "execution_count": null,
      "outputs": []
    },
    {
      "cell_type": "markdown",
      "metadata": {
        "id": "E2qscT4g3Zgo"
      },
      "source": [
        "**Simple Cross Validation**"
      ]
    },
    {
      "cell_type": "code",
      "metadata": {
        "id": "-3l1sBwN1n-U"
      },
      "source": [
        "# # X_train, X_test, y_train, y_test = train_test_split(x, y, test_size=0.3, random_state=0)\n",
        "\n",
        "# myList = list(range(0,50))\n",
        "# neighbors = list(filter(lambda x: x % 2 != 0, myList))\n",
        "\n",
        "# cv_scores = []\n",
        "\n",
        "# # perform 10-fold cross validation\n",
        "# for k in neighbors:\n",
        "#     knn = KNeighborsClassifier(n_neighbors=k)\n",
        "#     scores = cross_val_score(knn, x, y, cv=3, scoring='accuracy')\n",
        "#     cv_scores.append(scores.mean())\n",
        "\n",
        "# # changing to misclassification error\n",
        "# MSE = [1 - x for x in cv_scores]\n",
        "\n",
        "# # determining best k\n",
        "# optimal_k = neighbors[MSE.index(min(MSE))]\n",
        "# print('\\nThe optimal number of neighbors is %d.' % optimal_k)\n",
        "\n",
        "# # plot misclassification error vs k \n",
        "# plt.plot(neighbors, MSE)\n",
        "\n",
        "# for xy in zip(neighbors, np.round(MSE,3)):\n",
        "#     plt.annotate('(%s, %s)' % xy, xy=xy, textcoords='data')\n",
        "\n",
        "# plt.xlabel('Number of Neighbors K')\n",
        "# plt.ylabel('Misclassification Error')\n",
        "# plt.show()\n",
        "\n",
        "# print(\"the misclassification error for each k value is : \", np.round(MSE,3))"
      ],
      "execution_count": null,
      "outputs": []
    },
    {
      "cell_type": "code",
      "metadata": {
        "id": "Q2-H7cKG1oHl",
        "colab": {
          "base_uri": "https://localhost:8080/"
        },
        "outputId": "6df77a9c-2fba-457e-e78e-f8f853eaca33"
      },
      "source": [
        "\n",
        "\n",
        "for i in range(1,30,2):\n",
        "    # instantiate learning model (k = 30)\n",
        "    knn = KNeighborsClassifier(n_neighbors=i)\n",
        "    knn.fit(X_tr, y_tr)\n",
        "    pred = knn.predict(X_cv)\n",
        "    acc = accuracy_score(y_cv, pred, normalize=True) * float(100)\n",
        "    print('\\nCV accuracy for k = %d is %d%%' % (i, acc))\n",
        "    \n",
        "knn = KNeighborsClassifier(1)\n",
        "knn.fit(X_tr,y_tr)\n",
        "pred = knn.predict(X_test)\n",
        "acc = accuracy_score(y_test, pred, normalize=True) * float(100)\n",
        "# print('\\n****Test accuracy for k = 1 is %d%%' % (acc))"
      ],
      "execution_count": null,
      "outputs": [
        {
          "output_type": "stream",
          "text": [
            "\n",
            "CV accuracy for k = 1 is 44%\n",
            "\n",
            "CV accuracy for k = 3 is 38%\n",
            "\n",
            "CV accuracy for k = 5 is 39%\n",
            "\n",
            "CV accuracy for k = 7 is 37%\n",
            "\n",
            "CV accuracy for k = 9 is 37%\n",
            "\n",
            "CV accuracy for k = 11 is 37%\n",
            "\n",
            "CV accuracy for k = 13 is 34%\n",
            "\n",
            "CV accuracy for k = 15 is 35%\n",
            "\n",
            "CV accuracy for k = 17 is 34%\n",
            "\n",
            "CV accuracy for k = 19 is 34%\n",
            "\n",
            "CV accuracy for k = 21 is 34%\n",
            "\n",
            "CV accuracy for k = 23 is 35%\n",
            "\n",
            "CV accuracy for k = 25 is 35%\n",
            "\n",
            "CV accuracy for k = 27 is 34%\n",
            "\n",
            "CV accuracy for k = 29 is 36%\n"
          ],
          "name": "stdout"
        }
      ]
    }
  ]
}