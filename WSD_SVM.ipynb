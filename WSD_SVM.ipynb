{
  "nbformat": 4,
  "nbformat_minor": 0,
  "metadata": {
    "colab": {
      "name": "WSD_SVM.ipynb",
      "provenance": [],
      "collapsed_sections": [
        "z9ltZMfmJj3v",
        "wCAkIBcZ_cWG"
      ],
      "toc_visible": true
    },
    "kernelspec": {
      "display_name": "Python 3",
      "name": "python3"
    },
    "accelerator": "GPU"
  },
  "cells": [
    {
      "cell_type": "code",
      "metadata": {
        "id": "1U17KnLl80t4"
      },
      "source": [
        "# !pip install tensorflow-gpu"
      ],
      "execution_count": null,
      "outputs": []
    },
    {
      "cell_type": "code",
      "metadata": {
        "id": "x4Jw2cxF9hBr"
      },
      "source": [
        "# !nvidia-smi"
      ],
      "execution_count": null,
      "outputs": []
    },
    {
      "cell_type": "code",
      "metadata": {
        "id": "1UZ0abf2VCF5"
      },
      "source": [
        "!pip install BnVec\n",
        "!git clone https://github.com/banglakit/bengali-stemmer.git\n",
        "!python -m pip install --upgrade pip\n",
        "%cd bengali-stemmer\n",
        "!pip install flake8"
      ],
      "execution_count": null,
      "outputs": []
    },
    {
      "cell_type": "code",
      "metadata": {
        "id": "QkTmLbsrNoxF"
      },
      "source": [
        "!pip3 install ktrain"
      ],
      "execution_count": null,
      "outputs": []
    },
    {
      "cell_type": "markdown",
      "metadata": {
        "id": "DxXjNJEur3jg"
      },
      "source": [
        "#Load Files"
      ]
    },
    {
      "cell_type": "code",
      "metadata": {
        "id": "X3IQEIozL38t"
      },
      "source": [
        "import numpy as np\n",
        "import pandas as pd\n",
        "import matplotlib.pyplot as plt\n",
        "import re\n",
        "from pandas import DataFrame\n",
        "from BnVec import CountVectorizer\n",
        "from sklearn.naive_bayes import GaussianNB\n",
        "from sklearn.model_selection import train_test_split\n"
      ],
      "execution_count": null,
      "outputs": []
    },
    {
      "cell_type": "code",
      "metadata": {
        "id": "3zzFmj9L0O7q"
      },
      "source": [
        "from bengali_stemmer.rafikamal2014 import RafiStemmer\n",
        "stemmer = RafiStemmer()"
      ],
      "execution_count": null,
      "outputs": []
    },
    {
      "cell_type": "code",
      "metadata": {
        "id": "X9fO7sSqVCLv"
      },
      "source": [
        "data = pd.read_csv('/content/data.csv')\n",
        "stopwords = pd.read_csv('/content/stopwords_bangla.csv')"
      ],
      "execution_count": null,
      "outputs": []
    },
    {
      "cell_type": "code",
      "metadata": {
        "id": "d5A2rtYgfBeo"
      },
      "source": [
        "# data"
      ],
      "execution_count": null,
      "outputs": []
    },
    {
      "cell_type": "code",
      "metadata": {
        "id": "rQpY5AirEBUr"
      },
      "source": [
        "# from google.colab import drive\n",
        "# drive.mount('/content/drive')"
      ],
      "execution_count": null,
      "outputs": []
    },
    {
      "cell_type": "code",
      "metadata": {
        "id": "hxeDa3OoVCAZ"
      },
      "source": [
        "texts = list(data['Text'])\n",
        "set_stop = set(stopwords['Words'])"
      ],
      "execution_count": null,
      "outputs": []
    },
    {
      "cell_type": "code",
      "metadata": {
        "id": "Ajohes5UVB9U"
      },
      "source": [
        "def clean_punct(sentence):\n",
        "    cleaned = re.sub(r'[?|!|\\'|\"|#|।|’|‘]', r'', sentence)\n",
        "    cleaned1 = re.sub(r'[.|,|(|)|\\|/]', r'', cleaned)\n",
        "    # cleaned = re.sub(r'[০|১|২|৩|৪|৫|৬|৭|৮|৯]', r'', cleaned1)\n",
        "    cleaned1 = re.sub(r'[-|=]', r' ', cleaned1)\n",
        "    return cleaned1"
      ],
      "execution_count": null,
      "outputs": []
    },
    {
      "cell_type": "code",
      "metadata": {
        "id": "qOmOeXsPWMgB"
      },
      "source": [
        "def pre_process(data):\n",
        "    i=0\n",
        "    str1=' '\n",
        "    final_string = []\n",
        "    final_words = []\n",
        "    all_negative_words = []\n",
        "    s=''\n",
        "\n",
        "    for sentence in data:\n",
        "        filtered_sentence = []\n",
        "        for w in str(sentence).split():\n",
        "            for cleaned_word in clean_punct(w).split():\n",
        "                if len(cleaned_word)>2:\n",
        "                   # print(cleaned_word)\n",
        "                    if((cleaned_word) not in set_stop):\n",
        "                        # s = stemmer.stem_word(cleaned_word)\n",
        "                        s = cleaned_word\n",
        "                        #print(s)\n",
        "                        if len(s)>2:\n",
        "                            final_words.append(s)\n",
        "                            filtered_sentence.append(s)\n",
        "                    else:\n",
        "                        continue\n",
        "                else:\n",
        "                    continue\n",
        "\n",
        "        str1 = \" \".join(filtered_sentence)\n",
        "        final_string.append(str1)\n",
        "    return final_string\n",
        "\n",
        "# pun = set(['(' , ')' ,'.' , '!' , '|' , '#' , ',' , '?' , '[' , ']' , '/' , '\\' , '-'  , '\"' , \"'\" ])\n",
        "\n",
        "# pun = set([ '।' ])\n",
        "\n",
        "# def clear_punc(texts):\n",
        "\n",
        "#   for i in range(len(texts)):\n",
        "#     tmp = \"\"\n",
        "#     w = str(texts[i])\n",
        "#     s = w.split()\n",
        "#     size = len(s)\n",
        "#     for j in range(size):\n",
        "#       if s[j] in pun:\n",
        "#         #print(s[j])\n",
        "#         continue\n",
        "#       #print(s[j])\n",
        "#       tmp += s[j]\n",
        "#       if j + 1 < size:\n",
        "#         tmp += ' '\n",
        "#     texts[i] = tmp\n",
        "\n",
        "#   return texts\n",
        "# x = clear_punc(texts)"
      ],
      "execution_count": null,
      "outputs": []
    },
    {
      "cell_type": "code",
      "metadata": {
        "id": "wWKjioSaVB1j"
      },
      "source": [
        "import re\n",
        "re.compile('<title>(.*)</title>')\n",
        "texts = pre_process(texts)"
      ],
      "execution_count": null,
      "outputs": []
    },
    {
      "cell_type": "code",
      "metadata": {
        "id": "c6vhlrp1sd-t"
      },
      "source": [
        "# texts"
      ],
      "execution_count": null,
      "outputs": []
    },
    {
      "cell_type": "markdown",
      "metadata": {
        "id": "SyD_gSVdXI52"
      },
      "source": [
        "**Space Removing**"
      ]
    },
    {
      "cell_type": "code",
      "metadata": {
        "id": "s2OpJU_QXM94"
      },
      "source": [
        "ambi_word = list(data['ambiguous_word'])\n",
        "for word in ambi_word:\n",
        "  if word == 'কাটা ':\n",
        "    word = 'কাটা'\n",
        "  if word == 'কড়া ':\n",
        "    word = 'কড়া'\n",
        "  if word == 'বল ':\n",
        "    word = 'বল'\n",
        "  "
      ],
      "execution_count": null,
      "outputs": []
    },
    {
      "cell_type": "code",
      "metadata": {
        "id": "pfFe73IAXW-w"
      },
      "source": [
        "def unique(list1): \n",
        "    unique_list = [] \n",
        "    for x in list1: \n",
        "        if x not in unique_list: \n",
        "            unique_list.append(x) \n",
        "    for x in unique_list: \n",
        "        print(x)"
      ],
      "execution_count": null,
      "outputs": []
    },
    {
      "cell_type": "markdown",
      "metadata": {
        "id": "Rr0ip4-gHNZa"
      },
      "source": [
        "## Append ambiguous word to the text"
      ]
    },
    {
      "cell_type": "code",
      "metadata": {
        "id": "V-n9PryHHam2"
      },
      "source": [
        "# texts"
      ],
      "execution_count": null,
      "outputs": []
    },
    {
      "cell_type": "code",
      "metadata": {
        "id": "X5_gkrMYHFoH"
      },
      "source": [
        "for i in range(len(texts)):\n",
        "\ttexts[i] = str(texts[i])\n",
        "\n",
        "for i in range(len(ambi_word)):\n",
        "\tambi_word[i] = str(ambi_word[i])"
      ],
      "execution_count": null,
      "outputs": []
    },
    {
      "cell_type": "code",
      "metadata": {
        "id": "nWfAFKoDHMS2"
      },
      "source": [
        "for i in range(len(texts)):\n",
        "  texts[i] = texts[i] + \" \" + data['ambiguous_word'][i]"
      ],
      "execution_count": null,
      "outputs": []
    },
    {
      "cell_type": "code",
      "metadata": {
        "id": "6mVrIwdxG4Jg"
      },
      "source": [
        "texts"
      ],
      "execution_count": null,
      "outputs": []
    },
    {
      "cell_type": "code",
      "metadata": {
        "id": "CT4OSK1ZXg_v"
      },
      "source": [
        "#  unique(ambi_word)\n",
        "# for i in range(len(text)):\n",
        "# \ts = text[i] + \" \";\n",
        "\n",
        "# print(len(set(s.split())))"
      ],
      "execution_count": null,
      "outputs": []
    },
    {
      "cell_type": "code",
      "metadata": {
        "colab": {
          "base_uri": "https://localhost:8080/"
        },
        "id": "ED7fkfmsIzmI",
        "outputId": "d58009f7-6ff3-485d-b712-ec7a26dfdfb5"
      },
      "source": [
        "Max_len = 0\n",
        "for i in range(len(texts)):\n",
        "  Max_len = max(Max_len,len(texts[i]))\n",
        "print(Max_len)"
      ],
      "execution_count": null,
      "outputs": [
        {
          "output_type": "stream",
          "text": [
            "127\n"
          ],
          "name": "stdout"
        }
      ]
    },
    {
      "cell_type": "markdown",
      "metadata": {
        "id": "o0CVfbHKXtUh"
      },
      "source": [
        "**Count Vectorize**"
      ]
    },
    {
      "cell_type": "code",
      "metadata": {
        "id": "PT1HGKERXv8A"
      },
      "source": [
        "from pandas import DataFrame\n",
        "from BnVec import CountVectorizer\n",
        "cv = CountVectorizer()\n",
        "x_ambi = cv.fit_transform(ambi_word) # x is the word features\n",
        "# x_ambi"
      ],
      "execution_count": null,
      "outputs": []
    },
    {
      "cell_type": "code",
      "metadata": {
        "id": "54x-bP4bXz-l"
      },
      "source": [
        "text_word = list(data['Text'])\n",
        "x_text = cv.fit_transform(data['Text'].values.astype('U'))\n",
        "# x_text = cv.fit_transform(text_word)\n",
        "# x_text"
      ],
      "execution_count": null,
      "outputs": []
    },
    {
      "cell_type": "code",
      "metadata": {
        "id": "25L2trm9z_wr"
      },
      "source": [
        "x = np.concatenate((x_text, x_ambi), 1)"
      ],
      "execution_count": null,
      "outputs": []
    },
    {
      "cell_type": "code",
      "metadata": {
        "id": "rjwYUmYt0Emk"
      },
      "source": [
        "# x"
      ],
      "execution_count": null,
      "outputs": []
    },
    {
      "cell_type": "markdown",
      "metadata": {
        "id": "9yQ7bxoxYNr_"
      },
      "source": [
        "# **Vectorization**"
      ]
    },
    {
      "cell_type": "code",
      "metadata": {
        "id": "kMY_fyp8YeOj"
      },
      "source": [
        "macronum=sorted(set(data['meaning']))\n",
        "macro_to_id = dict((note, number) for number, note in enumerate(macronum))\n",
        "\n",
        "def fun(i):\n",
        "    return macro_to_id[i]\n",
        "\n",
        "label=data['meaning'].apply(fun)"
      ],
      "execution_count": null,
      "outputs": []
    },
    {
      "cell_type": "code",
      "metadata": {
        "id": "AogLftMMYn13"
      },
      "source": [
        "y= label\n",
        "# y"
      ],
      "execution_count": null,
      "outputs": []
    },
    {
      "cell_type": "markdown",
      "metadata": {
        "id": "3oPI9ChLh6DD"
      },
      "source": [
        "# **Import libraries**"
      ]
    },
    {
      "cell_type": "code",
      "metadata": {
        "id": "jdTOzcY91oOT"
      },
      "source": [
        "import numpy as np\n",
        "import pandas as pd\n",
        "import matplotlib.pyplot as plt\n",
        "import sklearn\n",
        "from sklearn.model_selection import train_test_split\n",
        "from sklearn.model_selection import cross_val_score\n",
        "from sklearn.neighbors import KNeighborsClassifier\n",
        "from sklearn.metrics import accuracy_score\n",
        "from sklearn.model_selection import cross_validate \n",
        "from collections import Counter\n",
        "from sklearn.metrics import accuracy_score"
      ],
      "execution_count": null,
      "outputs": []
    },
    {
      "cell_type": "code",
      "metadata": {
        "id": "OyYanAuXWNkZ"
      },
      "source": [
        "#Splitting dataset\n",
        "X_train, X_test, y_train, y_test = train_test_split(x, y, test_size=0.3, random_state=0)"
      ],
      "execution_count": null,
      "outputs": []
    },
    {
      "cell_type": "markdown",
      "metadata": {
        "id": "iI6mPZKEBaTI"
      },
      "source": [
        "# **SVM**"
      ]
    },
    {
      "cell_type": "code",
      "metadata": {
        "id": "1Yb7E7eiU1dt"
      },
      "source": [
        "# from sklearn.preprocessing import StandardScaler\n",
        "# cols = X_train.columns\n",
        "# scaler = StandardScaler()\n",
        "\n",
        "# X_train = scaler.fit_transform(X_train)\n",
        "\n",
        "# X_test = scaler.transform(X_test)\n",
        "# X_train = pd.DataFrame(X_train, columns=[cols])\n",
        "# X_test = pd.DataFrame(X_test, columns=[cols])\n",
        "# X_train.describe()"
      ],
      "execution_count": null,
      "outputs": []
    },
    {
      "cell_type": "code",
      "metadata": {
        "colab": {
          "base_uri": "https://localhost:8080/"
        },
        "id": "Izj1SeEnUyog",
        "outputId": "16b1bbfd-110e-43d6-ab8e-2673eda12d79"
      },
      "source": [
        "from sklearn.svm import SVC\n",
        "\n",
        "# import metrics to compute accuracy\n",
        "from sklearn.metrics import accuracy_score\n",
        "\n",
        "# instantiate classifier with default hyperparameters\n",
        "svc=SVC() \n",
        "\n",
        "# fit classifier to training set\n",
        "svc.fit(X_train,y_train)\n",
        "\n",
        "# make predictions on test set\n",
        "y_pred=svc.predict(X_test)\n",
        "\n",
        "# compute and print accuracy score\n",
        "print('Model accuracy score with default hyperparameters: {0:0.4f}'. format(accuracy_score(y_test, y_pred)))"
      ],
      "execution_count": null,
      "outputs": [
        {
          "output_type": "stream",
          "text": [
            "Model accuracy score with default hyperparameters: 0.3765\n"
          ],
          "name": "stdout"
        }
      ]
    },
    {
      "cell_type": "markdown",
      "metadata": {
        "id": "Va26b26sb9U-"
      },
      "source": [
        "Run SVM with linear kernel and C=1.0"
      ]
    },
    {
      "cell_type": "code",
      "metadata": {
        "id": "-PFZ3PsfWUEI",
        "colab": {
          "base_uri": "https://localhost:8080/"
        },
        "outputId": "3cbea46f-6162-486d-b86f-466ab09be951"
      },
      "source": [
        "from sklearn.svm import SVC\n",
        "# instantiate classifier with linear kernel and C=1.0\n",
        "\n",
        "linear_svc=SVC(kernel='linear', C=1.0) \n",
        "\n",
        "\n",
        "# fit classifier to training set\n",
        "linear_svc.fit(X_train,y_train)\n",
        "\n",
        "\n",
        "# make predictions on test set\n",
        "y_pred_test=linear_svc.predict(X_test)\n",
        "\n",
        "\n",
        "# compute and print accuracy score\n",
        "print('Model accuracy score with linear kernel and C=1.0 : {0:0.4f}'. format(accuracy_score(y_test, y_pred_test)))"
      ],
      "execution_count": null,
      "outputs": [
        {
          "output_type": "stream",
          "text": [
            "Model accuracy score with linear kernel and C=1.0 : 0.7512\n"
          ],
          "name": "stdout"
        }
      ]
    },
    {
      "cell_type": "markdown",
      "metadata": {
        "id": "6Z24LWTBcDRQ"
      },
      "source": [
        "Run SVM with linear kernel and C=100.0"
      ]
    },
    {
      "cell_type": "code",
      "metadata": {
        "id": "etb5VKVsB6bE",
        "colab": {
          "base_uri": "https://localhost:8080/"
        },
        "outputId": "81b992ea-212d-4fd1-fb51-36eb061f0119"
      },
      "source": [
        "# instantiate classifier with linear kernel and C=100.0\n",
        "linear_svc100=SVC(kernel='linear', C=100.0) \n",
        "\n",
        "\n",
        "# fit classifier to training set\n",
        "linear_svc100.fit(X_train, y_train)\n",
        "\n",
        "\n",
        "# make predictions on test set\n",
        "y_pred=linear_svc100.predict(X_test)\n",
        "\n",
        "\n",
        "# compute and print accuracy score\n",
        "print('Model accuracy score with linear kernel and C=100.0 : {0:0.4f}'. format(accuracy_score(y_test, y_pred)))"
      ],
      "execution_count": null,
      "outputs": [
        {
          "output_type": "stream",
          "text": [
            "Model accuracy score with linear kernel and C=100.0 : 0.7512\n"
          ],
          "name": "stdout"
        }
      ]
    },
    {
      "cell_type": "markdown",
      "metadata": {
        "id": "Uz9X9QWucpe-"
      },
      "source": [
        "Run SVM with linear kernel and C=1000.0"
      ]
    },
    {
      "cell_type": "code",
      "metadata": {
        "id": "47DUQbEEcr8A",
        "colab": {
          "base_uri": "https://localhost:8080/"
        },
        "outputId": "d43df70a-02f7-401e-8182-7444c7f9c10f"
      },
      "source": [
        "# instantiate classifier with linear kernel and C=1000.0\n",
        "linear_svc1000=SVC(kernel='linear', C=1000.0) \n",
        "\n",
        "\n",
        "# fit classifier to training set\n",
        "linear_svc1000.fit(X_train, y_train)\n",
        "\n",
        "\n",
        "# make predictions on test set\n",
        "y_pred=linear_svc1000.predict(X_test)\n",
        "\n",
        "\n",
        "# compute and print accuracy score\n",
        "print('Model accuracy score with linear kernel and C=1000.0 : {0:0.4f}'. format(accuracy_score(y_test, y_pred)))"
      ],
      "execution_count": null,
      "outputs": [
        {
          "output_type": "stream",
          "text": [
            "Model accuracy score with linear kernel and C=1000.0 : 0.7512\n"
          ],
          "name": "stdout"
        }
      ]
    },
    {
      "cell_type": "markdown",
      "metadata": {
        "id": "MWMMaLW1cvXr"
      },
      "source": [
        "Compare the train-set and test-set accuracy"
      ]
    },
    {
      "cell_type": "code",
      "metadata": {
        "id": "7dtnpcvdcyhV",
        "colab": {
          "base_uri": "https://localhost:8080/"
        },
        "outputId": "0e4ee366-dbd2-4dd1-94be-16be22f34a26"
      },
      "source": [
        "y_pred_train = linear_svc.predict(X_train)\n",
        "print('Training-set accuracy score: {0:0.4f}'. format(accuracy_score(y_train, y_pred_train)))\n",
        "\n"
      ],
      "execution_count": null,
      "outputs": [
        {
          "output_type": "stream",
          "text": [
            "Training-set accuracy score: 0.9957\n"
          ],
          "name": "stdout"
        }
      ]
    },
    {
      "cell_type": "code",
      "metadata": {
        "id": "f8xwY0hSdIuu",
        "colab": {
          "base_uri": "https://localhost:8080/"
        },
        "outputId": "47a33652-2d8d-404a-9961-7ed4868a2096"
      },
      "source": [
        "\n",
        "print('Training set score: {:.4f}'.format(linear_svc.score(X_train, y_train)))\n",
        "\n",
        "print('Test set score: {:.4f}'.format(linear_svc.score(X_test, y_test)))"
      ],
      "execution_count": null,
      "outputs": [
        {
          "output_type": "stream",
          "text": [
            "Training set score: 0.9957\n",
            "Test set score: 0.7512\n"
          ],
          "name": "stdout"
        }
      ]
    },
    {
      "cell_type": "markdown",
      "metadata": {
        "id": "SBfeW0xgdNNy"
      },
      "source": [
        "Run SVM with polynomial kernel "
      ]
    },
    {
      "cell_type": "code",
      "metadata": {
        "id": "gYsOadHEdOSU",
        "colab": {
          "base_uri": "https://localhost:8080/"
        },
        "outputId": "add28a25-e802-49d0-dd9c-453091862ba0"
      },
      "source": [
        "# instantiate classifier with polynomial kernel and C=1.0\n",
        "poly_svc=SVC(kernel='poly', C=1.0) \n",
        "\n",
        "\n",
        "# fit classifier to training set\n",
        "poly_svc.fit(X_train,y_train)\n",
        "\n",
        "\n",
        "# make predictions on test set\n",
        "y_pred=poly_svc.predict(X_test)\n",
        "\n",
        "\n",
        "# compute and print accuracy score\n",
        "print('Model accuracy score with polynomial kernel and C=1.0 : {0:0.4f}'. format(accuracy_score(y_test, y_pred)))"
      ],
      "execution_count": null,
      "outputs": [
        {
          "output_type": "stream",
          "text": [
            "Model accuracy score with polynomial kernel and C=1.0 : 0.0547\n"
          ],
          "name": "stdout"
        }
      ]
    },
    {
      "cell_type": "markdown",
      "metadata": {
        "id": "IH0SCVTtdU1A"
      },
      "source": [
        "Run SVM with polynomial kernel and C=100.0¶"
      ]
    },
    {
      "cell_type": "code",
      "metadata": {
        "id": "aUzVVXB7dTaD",
        "colab": {
          "base_uri": "https://localhost:8080/"
        },
        "outputId": "adaea954-712a-4196-b8b6-1bad443d8ff4"
      },
      "source": [
        "# instantiate classifier with polynomial kernel and C=100.0\n",
        "poly_svc100=SVC(kernel='poly', C=100.0) \n",
        "\n",
        "\n",
        "# fit classifier to training set\n",
        "poly_svc100.fit(X_train, y_train)\n",
        "\n",
        "\n",
        "# make predictions on test set\n",
        "y_pred=poly_svc100.predict(X_test)\n",
        "\n",
        "\n",
        "# compute and print accuracy score\n",
        "print('Model accuracy score with polynomial kernel and C=1.0 : {0:0.4f}'. format(accuracy_score(y_test, y_pred)))"
      ],
      "execution_count": null,
      "outputs": [
        {
          "output_type": "stream",
          "text": [
            "Model accuracy score with polynomial kernel and C=1.0 : 0.2952\n"
          ],
          "name": "stdout"
        }
      ]
    },
    {
      "cell_type": "markdown",
      "metadata": {
        "id": "EVT2SS5vdZqe"
      },
      "source": [
        "Run SVM with sigmoid kernel"
      ]
    },
    {
      "cell_type": "code",
      "metadata": {
        "id": "6JUNb8qRdfOn",
        "colab": {
          "base_uri": "https://localhost:8080/"
        },
        "outputId": "42e82b7d-890e-400f-becf-b8b8ae83da89"
      },
      "source": [
        "# instantiate classifier with sigmoid kernel and C=1.0\n",
        "sigmoid_svc=SVC(kernel='sigmoid', C=1.0) \n",
        "\n",
        "\n",
        "# fit classifier to training set\n",
        "sigmoid_svc.fit(X_train,y_train)\n",
        "\n",
        "\n",
        "# make predictions on test set\n",
        "y_pred=sigmoid_svc.predict(X_test)\n",
        "\n",
        "\n",
        "# compute and print accuracy score\n",
        "print('Model accuracy score with sigmoid kernel and C=1.0 : {0:0.4f}'. format(accuracy_score(y_test, y_pred)))"
      ],
      "execution_count": null,
      "outputs": [
        {
          "output_type": "stream",
          "text": [
            "Model accuracy score with sigmoid kernel and C=1.0 : 0.5738\n"
          ],
          "name": "stdout"
        }
      ]
    },
    {
      "cell_type": "markdown",
      "metadata": {
        "id": "zhM0FPpYdlP7"
      },
      "source": [
        "Run SVM with sigmoid kernel and C=100.0"
      ]
    },
    {
      "cell_type": "code",
      "metadata": {
        "id": "iUu1qCMddkWC",
        "colab": {
          "base_uri": "https://localhost:8080/"
        },
        "outputId": "b0f1ce54-7b11-4d7e-afc1-1b12baf34f11"
      },
      "source": [
        "# instantiate classifier with sigmoid kernel and C=100.0\n",
        "sigmoid_svc100=SVC(kernel='sigmoid', C=100.0) \n",
        "\n",
        "\n",
        "# fit classifier to training set\n",
        "sigmoid_svc100.fit(X_train,y_train)\n",
        "\n",
        "\n",
        "# make predictions on test set\n",
        "y_pred=sigmoid_svc100.predict(X_test)\n",
        "\n",
        "\n",
        "# compute and print accuracy score\n",
        "print('Model accuracy score with sigmoid kernel and C=100.0 : {0:0.4f}'. format(accuracy_score(y_test, y_pred)))"
      ],
      "execution_count": null,
      "outputs": [
        {
          "output_type": "stream",
          "text": [
            "Model accuracy score with sigmoid kernel and C=100.0 : 0.7927\n"
          ],
          "name": "stdout"
        }
      ]
    },
    {
      "cell_type": "markdown",
      "metadata": {
        "id": "WtJfPWIDdsSj"
      },
      "source": [
        "# Confusion matrix "
      ]
    },
    {
      "cell_type": "code",
      "metadata": {
        "id": "c611oyKYeAU3",
        "colab": {
          "base_uri": "https://localhost:8080/"
        },
        "outputId": "24f677d1-b306-482b-f6ab-ea129d73be00"
      },
      "source": [
        "from sklearn.metrics import confusion_matrix\n",
        "\n",
        "cm = confusion_matrix(y_test, y_pred_test)\n",
        "\n",
        "print('Confusion matrix\\n\\n', cm)\n",
        "\n",
        "print('\\nTrue Positives(TP) = ', cm[0,0])\n",
        "\n",
        "print('\\nTrue Negatives(TN) = ', cm[1,1])\n",
        "\n",
        "print('\\nFalse Positives(FP) = ', cm[0,1])\n",
        "\n",
        "print('\\nFalse Negatives(FN) = ', cm[1,0])"
      ],
      "execution_count": null,
      "outputs": [
        {
          "output_type": "stream",
          "text": [
            "Confusion matrix\n",
            "\n",
            " [[3 0 0 ... 0 0 0]\n",
            " [0 2 0 ... 0 0 0]\n",
            " [0 0 0 ... 0 0 0]\n",
            " ...\n",
            " [0 0 0 ... 2 0 0]\n",
            " [0 0 0 ... 0 4 0]\n",
            " [0 0 0 ... 0 0 0]]\n",
            "\n",
            "True Positives(TP) =  3\n",
            "\n",
            "True Negatives(TN) =  2\n",
            "\n",
            "False Positives(FP) =  0\n",
            "\n",
            "False Negatives(FN) =  0\n"
          ],
          "name": "stdout"
        }
      ]
    }
  ]
}